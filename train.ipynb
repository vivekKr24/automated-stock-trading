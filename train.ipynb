{
 "cells": [
  {
   "cell_type": "code",
   "execution_count": 8,
   "id": "initial_id",
   "metadata": {
    "collapsed": true,
    "ExecuteTime": {
     "end_time": "2024-02-01T02:25:08.397189400Z",
     "start_time": "2024-02-01T02:25:08.393187Z"
    }
   },
   "outputs": [],
   "source": []
  },
  {
   "cell_type": "code",
   "outputs": [
    {
     "data": {
      "text/plain": "<market_simulator.portfolio.Portfolio at 0x1e078f2fb50>"
     },
     "execution_count": 9,
     "metadata": {},
     "output_type": "execute_result"
    }
   ],
   "source": [
    "import torch\n",
    "\n",
    "from market_simulator.environment import Environment\n",
    "from market_simulator.portfolio import Portfolio\n",
    "from dataset.indicators import get_default_indicators\n",
    "from models.ciritic_net import CriticNet\n",
    "from train_utils import ActorCriticTrainer\n",
    "\n",
    "tickers = ['AAPL']\n",
    "indicators = get_default_indicators()\n",
    "initial_holdings = torch.zeros(size=[len(tickers)])\n",
    "initial_balance = 1000\n",
    "portfolio = Portfolio(tickers=tickers, holdings=initial_holdings, balance=initial_balance)\n",
    "portfolio"
   ],
   "metadata": {
    "collapsed": false,
    "ExecuteTime": {
     "end_time": "2024-02-01T02:25:08.442178900Z",
     "start_time": "2024-02-01T02:25:08.400181200Z"
    }
   },
   "id": "9e28827c45e69a7f",
   "execution_count": 9
  },
  {
   "cell_type": "code",
   "outputs": [
    {
     "data": {
      "text/plain": "(<market_simulator.environment.Environment at 0x1e078f2feb0>, 13, 1)"
     },
     "execution_count": 10,
     "metadata": {},
     "output_type": "execute_result"
    }
   ],
   "source": [
    "environment = Environment(indicators=indicators, portfolio=portfolio)\n",
    "state_size = environment.state_size\n",
    "action_size = environment.action_size\n",
    "environment, state_size, action_size"
   ],
   "metadata": {
    "collapsed": false,
    "ExecuteTime": {
     "end_time": "2024-02-01T02:25:08.469170300Z",
     "start_time": "2024-02-01T02:25:08.416173300Z"
    }
   },
   "id": "289c22d991d735c4",
   "execution_count": 10
  },
  {
   "cell_type": "code",
   "outputs": [],
   "source": [
    "from models.actor_net import ActorNet\n",
    "\n",
    "actor_net = ActorNet(state_size=state_size, hidden_size=state_size - 5, action_size=action_size)\n",
    "critic_1_net = CriticNet(state_size=state_size, hidden_size=state_size - 5, action_size=action_size)\n",
    "critic_2_net = CriticNet(state_size=state_size, hidden_size=state_size - 5, action_size=action_size)"
   ],
   "metadata": {
    "collapsed": false,
    "ExecuteTime": {
     "end_time": "2024-02-01T02:25:08.470172500Z",
     "start_time": "2024-02-01T02:25:08.448180200Z"
    }
   },
   "id": "9664bd1f391792d9",
   "execution_count": 11
  },
  {
   "cell_type": "code",
   "outputs": [],
   "source": [
    "optimizer = torch.optim.Adam\n",
    "trainer = ActorCriticTrainer(environment=environment,\n",
    "                             actor_network=actor_net,\n",
    "                             critic_1_network=critic_1_net,\n",
    "                             critic_2_network=critic_2_net,\n",
    "                             optimizer=optimizer)\n",
    "\n",
    "def should_update_networks(episode_idx, step_idx):\n",
    "    \n",
    "    return episode_idx > 100 and step_idx > 0\n",
    "    "
   ],
   "metadata": {
    "collapsed": false,
    "ExecuteTime": {
     "end_time": "2024-02-01T02:25:08.484170800Z",
     "start_time": "2024-02-01T02:25:08.466191900Z"
    }
   },
   "id": "64514963d41d80af",
   "execution_count": 12
  },
  {
   "cell_type": "code",
   "outputs": [
    {
     "ename": "TypeError",
     "evalue": "must be real number, not str",
     "output_type": "error",
     "traceback": [
      "\u001B[1;31m---------------------------------------------------------------------------\u001B[0m",
      "\u001B[1;31mTypeError\u001B[0m                                 Traceback (most recent call last)",
      "Cell \u001B[1;32mIn[13], line 9\u001B[0m\n\u001B[0;32m      6\u001B[0m \u001B[38;5;28;01mfor\u001B[39;00m episode \u001B[38;5;129;01min\u001B[39;00m \u001B[38;5;28mrange\u001B[39m(\u001B[38;5;241m1\u001B[39m, n_episodes \u001B[38;5;241m+\u001B[39m \u001B[38;5;241m1\u001B[39m):\n\u001B[0;32m      7\u001B[0m     transitions \u001B[38;5;241m=\u001B[39m TransitionDataset(capacity\u001B[38;5;241m=\u001B[39m\u001B[38;5;241m100000\u001B[39m)\n\u001B[1;32m----> 9\u001B[0m     current_state \u001B[38;5;241m=\u001B[39m \u001B[43menvironment\u001B[49m\u001B[38;5;241;43m.\u001B[39;49m\u001B[43minitial_state\u001B[49m\u001B[43m(\u001B[49m\u001B[43m)\u001B[49m\n\u001B[0;32m     10\u001B[0m     \u001B[38;5;28;01mfor\u001B[39;00m step \u001B[38;5;129;01min\u001B[39;00m \u001B[38;5;28mrange\u001B[39m(\u001B[38;5;241m1\u001B[39m, n_steps \u001B[38;5;241m+\u001B[39m \u001B[38;5;241m1\u001B[39m):\n\u001B[0;32m     11\u001B[0m         action \u001B[38;5;241m=\u001B[39m actor_net(current_state())\n",
      "File \u001B[1;32m~\\Stock Trading Agent\\market_simulator\\environment.py:38\u001B[0m, in \u001B[0;36mEnvironment.initial_state\u001B[1;34m(self, start_index)\u001B[0m\n\u001B[0;32m     36\u001B[0m \u001B[38;5;28;01mdef\u001B[39;00m \u001B[38;5;21minitial_state\u001B[39m(\u001B[38;5;28mself\u001B[39m, start_index\u001B[38;5;241m=\u001B[39m\u001B[38;5;241m45\u001B[39m) \u001B[38;5;241m-\u001B[39m\u001B[38;5;241m>\u001B[39m State:\n\u001B[0;32m     37\u001B[0m     \u001B[38;5;28mself\u001B[39m\u001B[38;5;241m.\u001B[39mportfolio\u001B[38;5;241m.\u001B[39mclose_prices \u001B[38;5;241m=\u001B[39m \u001B[38;5;28mself\u001B[39m\u001B[38;5;241m.\u001B[39mstate_data[start_index, \u001B[38;5;28mself\u001B[39m\u001B[38;5;241m.\u001B[39mindices(\u001B[38;5;124m'\u001B[39m\u001B[38;5;124mClose\u001B[39m\u001B[38;5;124m'\u001B[39m)]\n\u001B[1;32m---> 38\u001B[0m     \u001B[38;5;28;01mreturn\u001B[39;00m \u001B[43mState\u001B[49m\u001B[43m(\u001B[49m\u001B[38;5;28;43mself\u001B[39;49m\u001B[43m,\u001B[49m\u001B[43m \u001B[49m\u001B[38;5;28;43mself\u001B[39;49m\u001B[38;5;241;43m.\u001B[39;49m\u001B[43mstate_data\u001B[49m\u001B[43m[\u001B[49m\u001B[43mstart_index\u001B[49m\u001B[43m]\u001B[49m\u001B[43m,\u001B[49m\u001B[43m \u001B[49m\u001B[43mstart_index\u001B[49m\u001B[43m,\u001B[49m\u001B[43m \u001B[49m\u001B[38;5;28;43mself\u001B[39;49m\u001B[38;5;241;43m.\u001B[39;49m\u001B[43mportfolio\u001B[49m\u001B[43m)\u001B[49m\n",
      "File \u001B[1;32m~\\Stock Trading Agent\\market_simulator\\state.py:11\u001B[0m, in \u001B[0;36mState.__init__\u001B[1;34m(self, environment, vector, vector_index, portfolio)\u001B[0m\n\u001B[0;32m      9\u001B[0m \u001B[38;5;28mself\u001B[39m\u001B[38;5;241m.\u001B[39mvector_index \u001B[38;5;241m=\u001B[39m vector_index\n\u001B[0;32m     10\u001B[0m \u001B[38;5;28mself\u001B[39m\u001B[38;5;241m.\u001B[39mportfolio: Portfolio \u001B[38;5;241m=\u001B[39m portfolio\n\u001B[1;32m---> 11\u001B[0m \u001B[38;5;28mself\u001B[39m\u001B[38;5;241m.\u001B[39mvector \u001B[38;5;241m=\u001B[39m \u001B[43mtorch\u001B[49m\u001B[38;5;241;43m.\u001B[39;49m\u001B[43mtensor\u001B[49m\u001B[43m(\u001B[49m\u001B[43m[\u001B[49m\u001B[38;5;241;43m*\u001B[39;49m\u001B[43mportfolio\u001B[49m\u001B[43m,\u001B[49m\u001B[43m \u001B[49m\u001B[38;5;241;43m*\u001B[39;49m\u001B[43mvector\u001B[49m\u001B[43m]\u001B[49m\u001B[43m,\u001B[49m\u001B[43m \u001B[49m\u001B[43mdtype\u001B[49m\u001B[38;5;241;43m=\u001B[39;49m\u001B[43mtorch\u001B[49m\u001B[38;5;241;43m.\u001B[39;49m\u001B[43mfloat\u001B[49m\u001B[43m)\u001B[49m\n",
      "\u001B[1;31mTypeError\u001B[0m: must be real number, not str"
     ]
    }
   ],
   "source": [
    "from dataset.dataset import TransitionDataset\n",
    "\n",
    "n_episodes = 1000\n",
    "n_steps = 1000\n",
    "\n",
    "for episode in range(1, n_episodes + 1):\n",
    "    transitions = TransitionDataset(capacity=100000)\n",
    "    \n",
    "    current_state = environment.initial_state()\n",
    "    for step in range(1, n_steps + 1):\n",
    "        action = actor_net(current_state())\n",
    "        action_noise = torch.randn_like(action)\n",
    "        reward, next_state = environment.get_reward_and_next_state()\n",
    "        \n",
    "        done = bool(next_state)\n",
    "        \n",
    "        if done:\n",
    "            break\n",
    "            \n",
    "        transitions.add_transition(current_state, action, next_state, reward, done)\n",
    "        \n",
    "        if should_update_networks(episode, step):\n",
    "            losses = trainer.update(batch=transitions, policy_update=(step % 10 == 0))\n",
    "        \n",
    "        "
   ],
   "metadata": {
    "collapsed": false,
    "ExecuteTime": {
     "end_time": "2024-02-01T02:25:08.525171800Z",
     "start_time": "2024-02-01T02:25:08.478173100Z"
    }
   },
   "id": "707198d803c7cc82",
   "execution_count": 13
  },
  {
   "cell_type": "code",
   "outputs": [],
   "source": [],
   "metadata": {
    "collapsed": false,
    "ExecuteTime": {
     "start_time": "2024-02-01T02:25:08.528203500Z"
    }
   },
   "id": "d4543301e61c7fc6"
  }
 ],
 "metadata": {
  "kernelspec": {
   "display_name": "Python 3",
   "language": "python",
   "name": "python3"
  },
  "language_info": {
   "codemirror_mode": {
    "name": "ipython",
    "version": 2
   },
   "file_extension": ".py",
   "mimetype": "text/x-python",
   "name": "python",
   "nbconvert_exporter": "python",
   "pygments_lexer": "ipython2",
   "version": "2.7.6"
  }
 },
 "nbformat": 4,
 "nbformat_minor": 5
}
